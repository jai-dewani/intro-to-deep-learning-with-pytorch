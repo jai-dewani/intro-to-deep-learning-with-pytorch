{
 "cells": [
  {
   "cell_type": "markdown",
   "metadata": {},
   "source": [
    "# Inference and Validation\n",
    "\n",
    "Now that you have a trained network, you can use it for making predictions. This is typically called **inference**, a term borrowed from statistics. However, neural networks have a tendency to perform *too well* on the training data and aren't able to generalize to data that hasn't been seen before. This is called **overfitting** and it impairs inference performance. To test for overfitting while training, we measure the performance on data not in the training set called the **validation** set. We avoid overfitting through regularization such as dropout while monitoring the validation performance during training. In this notebook, I'll show you how to do this in PyTorch. \n",
    "\n",
    "As usual, let's start by loading the dataset through torchvision. You'll learn more about torchvision and loading data in a later part. This time we'll be taking advantage of the test set which you can get by setting `train=False` here:\n",
    "\n",
    "```python\n",
    "testset = datasets.FashionMNIST('~/.pytorch/F_MNIST_data/', download=True, train=False, transform=transform)\n",
    "```\n",
    "\n",
    "The test set contains images just like the training set. Typically you'll see 10-20% of the original dataset held out for testing and validation with the rest being used for training."
   ]
  },
  {
   "cell_type": "code",
   "execution_count": 1,
   "metadata": {},
   "outputs": [],
   "source": [
    "import torch\n",
    "from torchvision import datasets, transforms\n",
    "\n",
    "# Define a transform to normalize the data\n",
    "transform = transforms.Compose([transforms.ToTensor(),\n",
    "                                transforms.Normalize((0.5,), (0.5,))])\n",
    "# Download and load the training data\n",
    "trainset = datasets.FashionMNIST('~/.pytorch/F_MNIST_data/', download=True, train=True, transform=transform)\n",
    "trainloader = torch.utils.data.DataLoader(trainset, batch_size=64, shuffle=True)\n",
    "\n",
    "# Download and load the test data\n",
    "testset = datasets.FashionMNIST('~/.pytorch/F_MNIST_data/', download=True, train=False, transform=transform)\n",
    "testloader = torch.utils.data.DataLoader(testset, batch_size=64, shuffle=True)"
   ]
  },
  {
   "cell_type": "markdown",
   "metadata": {},
   "source": [
    "Here I'll create a model like normal, using the same one from my solution for part 4."
   ]
  },
  {
   "cell_type": "code",
   "execution_count": 2,
   "metadata": {},
   "outputs": [],
   "source": [
    "from torch import nn, optim\n",
    "import torch.nn.functional as F\n",
    "\n",
    "class Classifier(nn.Module):\n",
    "    def __init__(self):\n",
    "        super().__init__()\n",
    "        self.fc1 = nn.Linear(784, 256)\n",
    "        self.fc2 = nn.Linear(256, 128)\n",
    "        self.fc3 = nn.Linear(128, 64)\n",
    "        self.fc4 = nn.Linear(64, 10)\n",
    "        \n",
    "    def forward(self, x):\n",
    "        # make sure input tensor is flattened\n",
    "        x = x.view(x.shape[0], -1)\n",
    "        \n",
    "        x = F.relu(self.fc1(x))\n",
    "        x = F.relu(self.fc2(x))\n",
    "        x = F.relu(self.fc3(x))\n",
    "        x = F.log_softmax(self.fc4(x), dim=1)\n",
    "        \n",
    "        return x"
   ]
  },
  {
   "cell_type": "markdown",
   "metadata": {},
   "source": [
    "The goal of validation is to measure the model's performance on data that isn't part of the training set. Performance here is up to the developer to define though. Typically this is just accuracy, the percentage of classes the network predicted correctly. Other options are [precision and recall](https://en.wikipedia.org/wiki/Precision_and_recall#Definition_(classification_context)) and top-5 error rate. We'll focus on accuracy here. First I'll do a forward pass with one batch from the test set."
   ]
  },
  {
   "cell_type": "code",
   "execution_count": 3,
   "metadata": {},
   "outputs": [
    {
     "name": "stdout",
     "output_type": "stream",
     "text": [
      "torch.Size([64, 10])\n"
     ]
    }
   ],
   "source": [
    "model = Classifier()\n",
    "\n",
    "images, labels = next(iter(testloader))\n",
    "# Get the class probabilities\n",
    "ps = torch.exp(model(images))\n",
    "# Make sure the shape is appropriate, we should get 10 class probabilities for 64 examples\n",
    "print(ps.shape)"
   ]
  },
  {
   "cell_type": "markdown",
   "metadata": {},
   "source": [
    "With the probabilities, we can get the most likely class using the `ps.topk` method. This returns the $k$ highest values. Since we just want the most likely class, we can use `ps.topk(1)`. This returns a tuple of the top-$k$ values and the top-$k$ indices. If the highest value is the fifth element, we'll get back 4 as the index."
   ]
  },
  {
   "cell_type": "code",
   "execution_count": 10,
   "metadata": {},
   "outputs": [
    {
     "name": "stdout",
     "output_type": "stream",
     "text": [
      "tensor([[7],\n",
      "        [7],\n",
      "        [7],\n",
      "        [7],\n",
      "        [7],\n",
      "        [7],\n",
      "        [7],\n",
      "        [7],\n",
      "        [7],\n",
      "        [7]])\n"
     ]
    }
   ],
   "source": [
    "top_p, top_class = ps.topk(1, dim=1)\n",
    "# Look at the most likely classes for the first 10 examples\n",
    "print(top_class[:10,:])"
   ]
  },
  {
   "cell_type": "markdown",
   "metadata": {},
   "source": [
    "Now we can check if the predicted classes match the labels. This is simple to do by equating `top_class` and `labels`, but we have to be careful of the shapes. Here `top_class` is a 2D tensor with shape `(64, 1)` while `labels` is 1D with shape `(64)`. To get the equality to work out the way we want, `top_class` and `labels` must have the same shape.\n",
    "\n",
    "If we do\n",
    "\n",
    "```python\n",
    "equals = top_class == labels\n",
    "```\n",
    "\n",
    "`equals` will have shape `(64, 64)`, try it yourself. What it's doing is comparing the one element in each row of `top_class` with each element in `labels` which returns 64 True/False boolean values for each row."
   ]
  },
  {
   "cell_type": "code",
   "execution_count": 11,
   "metadata": {},
   "outputs": [],
   "source": [
    "equals = top_class == labels.view(*top_class.shape)"
   ]
  },
  {
   "cell_type": "markdown",
   "metadata": {},
   "source": [
    "Now we need to calculate the percentage of correct predictions. `equals` has binary values, either 0 or 1. This means that if we just sum up all the values and divide by the number of values, we get the percentage of correct predictions. This is the same operation as taking the mean, so we can get the accuracy with a call to `torch.mean`. If only it was that simple. If you try `torch.mean(equals)`, you'll get an error\n",
    "\n",
    "```\n",
    "RuntimeError: mean is not implemented for type torch.ByteTensor\n",
    "```\n",
    "\n",
    "This happens because `equals` has type `torch.ByteTensor` but `torch.mean` isn't implemented for tensors with that type. So we'll need to convert `equals` to a float tensor. Note that when we take `torch.mean` it returns a scalar tensor, to get the actual value as a float we'll need to do `accuracy.item()`."
   ]
  },
  {
   "cell_type": "code",
   "execution_count": 8,
   "metadata": {},
   "outputs": [
    {
     "name": "stdout",
     "output_type": "stream",
     "text": [
      "Accuracy: 17.1875%\n"
     ]
    }
   ],
   "source": [
    "accuracy = torch.mean(equals.type(torch.FloatTensor))\n",
    "print(f'Accuracy: {accuracy.item()*100}%')"
   ]
  },
  {
   "cell_type": "markdown",
   "metadata": {},
   "source": [
    "The network is untrained so it's making random guesses and we should see an accuracy around 10%. Now let's train our network and include our validation pass so we can measure how well the network is performing on the test set. Since we're not updating our parameters in the validation pass, we can speed up our code by turning off gradients using `torch.no_grad()`:\n",
    "\n",
    "```python\n",
    "# turn off gradients\n",
    "with torch.no_grad():\n",
    "    # validation pass here\n",
    "    for images, labels in testloader:\n",
    "        ...\n",
    "```\n",
    "\n",
    ">**Exercise:** Implement the validation loop below and print out the total accuracy after the loop. You can largely copy and paste the code from above, but I suggest typing it in because writing it out yourself is essential for building the skill. In general you'll always learn more by typing it rather than copy-pasting. You should be able to get an accuracy above 80%."
   ]
  },
  {
   "cell_type": "code",
   "execution_count": 14,
   "metadata": {
    "scrolled": true
   },
   "outputs": [
    {
     "name": "stdout",
     "output_type": "stream",
     "text": [
      "Epoch: 0\n",
      "Training Loss: 0.5195045285641766\n",
      "Test Loss: 0.4304441213607788\n",
      "Accuracy: 2698.4375%\n",
      "Epoch: 1\n",
      "Training Loss: 0.38994723675188736\n",
      "Test Loss: 0.4282080829143524\n",
      "Accuracy: 2698.4375%\n",
      "Epoch: 2\n",
      "Training Loss: 0.3565564318490562\n",
      "Test Loss: 0.38556453585624695\n",
      "Accuracy: 2698.4375%\n",
      "Epoch: 3\n",
      "Training Loss: 0.32684954247081965\n",
      "Test Loss: 0.37174397706985474\n",
      "Accuracy: 2698.4375%\n",
      "Epoch: 4\n",
      "Training Loss: 0.31454409558032115\n",
      "Test Loss: 0.3629592955112457\n",
      "Accuracy: 2698.4375%\n",
      "Epoch: 5\n",
      "Training Loss: 0.3014577534645478\n",
      "Test Loss: 0.3682321310043335\n",
      "Accuracy: 2698.4375%\n",
      "Epoch: 6\n",
      "Training Loss: 0.2878452761293347\n",
      "Test Loss: 0.3941172659397125\n",
      "Accuracy: 2698.4375%\n",
      "Epoch: 7\n",
      "Training Loss: 0.2798025645633369\n",
      "Test Loss: 0.36637556552886963\n",
      "Accuracy: 2698.4375%\n",
      "Epoch: 8\n",
      "Training Loss: 0.27030649525460915\n",
      "Test Loss: 0.3577307462692261\n",
      "Accuracy: 2698.4375%\n",
      "Epoch: 9\n",
      "Training Loss: 0.2610993049800523\n",
      "Test Loss: 0.3504739999771118\n",
      "Accuracy: 2698.4375%\n",
      "Epoch: 10\n",
      "Training Loss: 0.2571875077805349\n",
      "Test Loss: 0.36405402421951294\n",
      "Accuracy: 2698.4375%\n",
      "Epoch: 11\n",
      "Training Loss: 0.245869348079824\n",
      "Test Loss: 0.3707393407821655\n",
      "Accuracy: 2698.4375%\n",
      "Epoch: 12\n",
      "Training Loss: 0.2396988794207573\n",
      "Test Loss: 0.3726210594177246\n",
      "Accuracy: 2698.4375%\n",
      "Epoch: 13\n",
      "Training Loss: 0.23780843749372307\n",
      "Test Loss: 0.37881985306739807\n",
      "Accuracy: 2698.4375%\n",
      "Epoch: 14\n",
      "Training Loss: 0.23400097760929864\n",
      "Test Loss: 0.3717119097709656\n",
      "Accuracy: 2698.4375%\n",
      "Epoch: 15\n",
      "Training Loss: 0.2267944779652141\n",
      "Test Loss: 0.37161049246788025\n",
      "Accuracy: 2698.4375%\n",
      "Epoch: 16\n",
      "Training Loss: 0.2225096226334254\n",
      "Test Loss: 0.3422457277774811\n",
      "Accuracy: 2698.4375%\n",
      "Epoch: 17\n",
      "Training Loss: 0.21995712469206818\n",
      "Test Loss: 0.38021185994148254\n",
      "Accuracy: 2698.4375%\n",
      "Epoch: 18\n",
      "Training Loss: 0.21661939206265057\n",
      "Test Loss: 0.3916811943054199\n",
      "Accuracy: 2698.4375%\n",
      "Epoch: 19\n",
      "Training Loss: 0.21093229563243543\n",
      "Test Loss: 0.3587437868118286\n",
      "Accuracy: 2698.4375%\n",
      "Epoch: 20\n",
      "Training Loss: 0.2068983833196321\n",
      "Test Loss: 0.36874920129776\n",
      "Accuracy: 2698.4375%\n",
      "Epoch: 21\n",
      "Training Loss: 0.20156706574517907\n",
      "Test Loss: 0.38426464796066284\n",
      "Accuracy: 2698.4375%\n",
      "Epoch: 22\n",
      "Training Loss: 0.19934522417753237\n",
      "Test Loss: 0.37282687425613403\n",
      "Accuracy: 2698.4375%\n",
      "Epoch: 23\n",
      "Training Loss: 0.20085678443805113\n",
      "Test Loss: 0.38321706652641296\n",
      "Accuracy: 2698.4375%\n",
      "Epoch: 24\n",
      "Training Loss: 0.19396236613948845\n",
      "Test Loss: 0.38339948654174805\n",
      "Accuracy: 2698.4375%\n",
      "Epoch: 25\n",
      "Training Loss: 0.18842353760751326\n",
      "Test Loss: 0.36990705132484436\n",
      "Accuracy: 2698.4375%\n",
      "Epoch: 26\n",
      "Training Loss: 0.18565360830227004\n",
      "Test Loss: 0.37933558225631714\n",
      "Accuracy: 2698.4375%\n",
      "Epoch: 27\n",
      "Training Loss: 0.1795592293230646\n",
      "Test Loss: 0.3812128007411957\n",
      "Accuracy: 2698.4375%\n",
      "Epoch: 28\n",
      "Training Loss: 0.18402771416630573\n",
      "Test Loss: 0.42057791352272034\n",
      "Accuracy: 2698.4375%\n",
      "Epoch: 29\n",
      "Training Loss: 0.17876126200183115\n",
      "Test Loss: 0.43262797594070435\n",
      "Accuracy: 2698.4375%\n"
     ]
    }
   ],
   "source": [
    "model = Classifier()\n",
    "criterion = nn.NLLLoss()\n",
    "optimizer = optim.Adam(model.parameters(), lr=0.003)\n",
    "\n",
    "epochs = 30\n",
    "steps = 0\n",
    "\n",
    "train_losses, test_losses = [], []\n",
    "for e in range(epochs):\n",
    "    running_loss = 0\n",
    "    for images, labels in trainloader:\n",
    "        \n",
    "        optimizer.zero_grad()\n",
    "        \n",
    "        log_ps = model(images)\n",
    "        loss = criterion(log_ps, labels)\n",
    "        loss.backward()\n",
    "        optimizer.step()\n",
    "        \n",
    "        running_loss += loss.item()\n",
    "        \n",
    "    else:\n",
    "        ## TODO: Implement the validation pass and print out the validation accuracy\n",
    "        test_loss = 0\n",
    "        accuracy = 0.\n",
    "        with torch.no_grad():\n",
    "            for image, label in testloader:\n",
    "                log_ps = model(image)\n",
    "                test_loss += criterion(log_ps,label)\n",
    "                \n",
    "                ps = torch.exp(log_ps)\n",
    "                top_p, top_class = ps.topk(1,dim=1)\n",
    "                equal = top_class == label.view(*top_class.shape)\n",
    "                accuracy += torch.mean(equals.type(torch.FloatTensor))\n",
    "        train_losses.append(running_loss/(len(trainloader)))\n",
    "        test_losses.append(test_loss/(len(testloader)))\n",
    "        print(f'Epoch: {e}')\n",
    "        print(f'Training Loss: {train_losses[-1]}')\n",
    "        print(f'Test Loss: {test_losses[-1]}')\n",
    "        print(f'Accuracy: {accuracy.item()*100}%')"
   ]
  },
  {
   "cell_type": "code",
   "execution_count": 16,
   "metadata": {},
   "outputs": [],
   "source": [
    "%matplotlib inline\n",
    "%config InlineBackend.figure_format = 'retina'\n",
    "\n",
    "import matplotlib.pyplot as plt"
   ]
  },
  {
   "cell_type": "code",
   "execution_count": 19,
   "metadata": {},
   "outputs": [
    {
     "data": {
      "text/plain": [
       "<matplotlib.legend.Legend at 0x1df9455ef48>"
      ]
     },
     "execution_count": 19,
     "metadata": {},
     "output_type": "execute_result"
    },
    {
     "data": {
      "image/png": "[encoded data removed]",
      "text/plain": [
       "<Figure size 432x288 with 1 Axes>"
      ]
     },
     "metadata": {
      "image/png": {
       "height": 248,
       "width": 380
      },
      "needs_background": "light"
     },
     "output_type": "display_data"
    }
   ],
   "source": [
    "plt.plot(train_losses, label='Training loss')\n",
    "plt.plot(test_losses, label='Validation loss')\n",
    "plt.legend(frameon=False)"
   ]
  },
  {
   "cell_type": "markdown",
   "metadata": {},
   "source": [
    "## Overfitting\n",
    "\n",
    "If we look at the training and validation losses as we train the network, we can see a phenomenon known as overfitting.\n",
    "\n",
    "<img src='assets/overfitting.png' width=450px>\n",
    "\n",
    "The network learns the training set better and better, resulting in lower training losses. However, it starts having problems generalizing to data outside the training set leading to the validation loss increasing. The ultimate goal of any deep learning model is to make predictions on new data, so we should strive to get the lowest validation loss possible. One option is to use the version of the model with the lowest validation loss, here the one around 8-10 training epochs. This strategy is called *early-stopping*. In practice, you'd save the model frequently as you're training then later choose the model with the lowest validation loss.\n",
    "\n",
    "The most common method to reduce overfitting (outside of early-stopping) is *dropout*, where we randomly drop input units. This forces the network to share information between weights, increasing it's ability to generalize to new data. Adding dropout in PyTorch is straightforward using the [`nn.Dropout`](https://pytorch.org/docs/stable/nn.html#torch.nn.Dropout) module.\n",
    "\n",
    "```python\n",
    "class Classifier(nn.Module):\n",
    "    def __init__(self):\n",
    "        super().__init__()\n",
    "        self.fc1 = nn.Linear(784, 256)\n",
    "        self.fc2 = nn.Linear(256, 128)\n",
    "        self.fc3 = nn.Linear(128, 64)\n",
    "        self.fc4 = nn.Linear(64, 10)\n",
    "        \n",
    "        # Dropout module with 0.2 drop probability\n",
    "        self.dropout = nn.Dropout(p=0.2)\n",
    "        \n",
    "    def forward(self, x):\n",
    "        # make sure input tensor is flattened\n",
    "        x = x.view(x.shape[0], -1)\n",
    "        \n",
    "        # Now with dropout\n",
    "        x = self.dropout(F.relu(self.fc1(x)))\n",
    "        x = self.dropout(F.relu(self.fc2(x)))\n",
    "        x = self.dropout(F.relu(self.fc3(x)))\n",
    "        \n",
    "        # output so no dropout here\n",
    "        x = F.log_softmax(self.fc4(x), dim=1)\n",
    "        \n",
    "        return x\n",
    "```\n",
    "\n",
    "During training we want to use dropout to prevent overfitting, but during inference we want to use the entire network. So, we need to turn off dropout during validation, testing, and whenever we're using the network to make predictions. To do this, you use `model.eval()`. This sets the model to evaluation mode where the dropout probability is 0. You can turn dropout back on by setting the model to train mode with `model.train()`. In general, the pattern for the validation loop will look like this, where you turn off gradients, set the model to evaluation mode, calculate the validation loss and metric, then set the model back to train mode.\n",
    "\n",
    "```python\n",
    "# turn off gradients\n",
    "with torch.no_grad():\n",
    "    \n",
    "    # set model to evaluation mode\n",
    "    model.eval()\n",
    "    \n",
    "    # validation pass here\n",
    "    for images, labels in testloader:\n",
    "        ...\n",
    "\n",
    "# set model back to train mode\n",
    "model.train()\n",
    "```"
   ]
  },
  {
   "cell_type": "markdown",
   "metadata": {},
   "source": [
    "> **Exercise:** Add dropout to your model and train it on Fashion-MNIST again. See if you can get a lower validation loss or higher accuracy."
   ]
  },
  {
   "cell_type": "code",
   "execution_count": 27,
   "metadata": {},
   "outputs": [],
   "source": [
    "## TODO: Define your model with dropout added\n",
    "class Classifier(nn.Module):\n",
    "    def __init__(self):\n",
    "        super().__init__()\n",
    "        self.fc1 = nn.Linear(784,256)\n",
    "        self.fc2 = nn.Linear(256,128)\n",
    "        self.fc3 = nn.Linear(128,64)\n",
    "        self.fc4 = nn.Linear(64,10)\n",
    "        \n",
    "        self.dropout = nn.Dropout(p=0.2)\n",
    "    \n",
    "    def forward(self,x):\n",
    "        \n",
    "        x = x.view(x.shape[0],-1)\n",
    "        \n",
    "        x = self.dropout(F.relu(self.fc1(x)))\n",
    "        x = self.dropout(F.relu(self.fc2(x)))\n",
    "        x = self.dropout(F.relu(self.fc3(x)))\n",
    "        \n",
    "        x = F.log_softmax(self.fc4(x),dim=1)\n",
    "        \n",
    "        return x"
   ]
  },
  {
   "cell_type": "code",
   "execution_count": 37,
   "metadata": {
    "scrolled": true
   },
   "outputs": [
    {
     "name": "stdout",
     "output_type": "stream",
     "text": [
      "Epoch: 0\n",
      "Training Loss: 0.61154413445672\n",
      "Test Loss: 0.4816572964191437\n",
      "Accuracy: 12964.0625%\n",
      "Epoch: 1\n",
      "Training Loss: 0.481482354403813\n",
      "Test Loss: 0.4500235915184021\n",
      "Accuracy: 13139.0625%\n",
      "Epoch: 2\n",
      "Training Loss: 0.448988714928566\n",
      "Test Loss: 0.414124071598053\n",
      "Accuracy: 13426.5625%\n",
      "Epoch: 3\n",
      "Training Loss: 0.4307639565009044\n",
      "Test Loss: 0.41971516609191895\n",
      "Accuracy: 13412.5%\n",
      "Epoch: 4\n",
      "Training Loss: 0.4199701612437966\n",
      "Test Loss: 0.4269877076148987\n",
      "Accuracy: 13310.9375%\n",
      "Epoch: 5\n",
      "Training Loss: 0.4076224235710559\n",
      "Test Loss: 0.3973678648471832\n",
      "Accuracy: 13479.6875%\n",
      "Epoch: 6\n",
      "Training Loss: 0.4026152802460483\n",
      "Test Loss: 0.3987984359264374\n",
      "Accuracy: 13514.0625%\n",
      "Epoch: 7\n",
      "Training Loss: 0.3963193160924576\n",
      "Test Loss: 0.3976207375526428\n",
      "Accuracy: 13557.8125%\n",
      "Epoch: 8\n",
      "Training Loss: 0.39096164136235395\n",
      "Test Loss: 0.4019790589809418\n",
      "Accuracy: 13518.75%\n",
      "Epoch: 9\n",
      "Training Loss: 0.38842236171208466\n",
      "Test Loss: 0.37863636016845703\n",
      "Accuracy: 13643.75%\n",
      "Epoch: 10\n",
      "Training Loss: 0.38618805776558707\n",
      "Test Loss: 0.40079495310783386\n",
      "Accuracy: 13431.25%\n",
      "Epoch: 11\n",
      "Training Loss: 0.3753562821254039\n",
      "Test Loss: 0.38428348302841187\n",
      "Accuracy: 13537.5%\n",
      "Epoch: 12\n",
      "Training Loss: 0.3768281990181663\n",
      "Test Loss: 0.3731415867805481\n",
      "Accuracy: 13631.25%\n",
      "Epoch: 13\n",
      "Training Loss: 0.37540244530322453\n",
      "Test Loss: 0.38390907645225525\n",
      "Accuracy: 13532.8125%\n",
      "Epoch: 14\n",
      "Training Loss: 0.3699796927937948\n",
      "Test Loss: 0.381095826625824\n",
      "Accuracy: 13645.3125%\n",
      "Epoch: 15\n",
      "Training Loss: 0.37018344507638073\n",
      "Test Loss: 0.3854655623435974\n",
      "Accuracy: 13607.8125%\n",
      "Epoch: 16\n",
      "Training Loss: 0.3648496701010763\n",
      "Test Loss: 0.3778638243675232\n",
      "Accuracy: 13557.8125%\n",
      "Epoch: 17\n",
      "Training Loss: 0.36128461011437213\n",
      "Test Loss: 0.3820818364620209\n",
      "Accuracy: 13595.3125%\n",
      "Epoch: 18\n",
      "Training Loss: 0.35902246378505154\n",
      "Test Loss: 0.37540632486343384\n",
      "Accuracy: 13667.1875%\n",
      "Epoch: 19\n",
      "Training Loss: 0.35933037564507936\n",
      "Test Loss: 0.38523831963539124\n",
      "Accuracy: 13507.8125%\n",
      "Epoch: 20\n",
      "Training Loss: 0.3584582354786045\n",
      "Test Loss: 0.39312484860420227\n",
      "Accuracy: 13515.625%\n",
      "Epoch: 21\n",
      "Training Loss: 0.36301854693654506\n",
      "Test Loss: 0.374366819858551\n",
      "Accuracy: 13701.5625%\n",
      "Epoch: 22\n",
      "Training Loss: 0.3518704555150288\n",
      "Test Loss: 0.3990221321582794\n",
      "Accuracy: 13548.4375%\n",
      "Epoch: 23\n",
      "Training Loss: 0.36033983752608045\n",
      "Test Loss: 0.38575658202171326\n",
      "Accuracy: 13645.3125%\n",
      "Epoch: 24\n",
      "Training Loss: 0.348919237163593\n",
      "Test Loss: 0.37629225850105286\n",
      "Accuracy: 13784.375%\n",
      "Epoch: 25\n",
      "Training Loss: 0.35605776724594235\n",
      "Test Loss: 0.38921883702278137\n",
      "Accuracy: 13651.5625%\n",
      "Epoch: 26\n",
      "Training Loss: 0.3470554368963628\n",
      "Test Loss: 0.37811291217803955\n",
      "Accuracy: 13692.1875%\n",
      "Epoch: 27\n",
      "Training Loss: 0.34488157642040174\n",
      "Test Loss: 0.38727256655693054\n",
      "Accuracy: 13670.3125%\n",
      "Epoch: 28\n",
      "Training Loss: 0.35633508343972375\n",
      "Test Loss: 0.37854549288749695\n",
      "Accuracy: 13739.0625%\n",
      "Epoch: 29\n",
      "Training Loss: 0.3522910556988294\n",
      "Test Loss: 0.37461981177330017\n",
      "Accuracy: 13695.3125%\n"
     ]
    }
   ],
   "source": [
    "## TODO: Train your model with dropout, and monitor the training progress with the validation loss and accuracy\n",
    "model = Classifier()\n",
    "criterion = nn.NLLLoss()\n",
    "optimizer = optim.Adam(model.parameters(), lr=0.003)\n",
    "\n",
    "epochs = 30\n",
    "steps = 0\n",
    "\n",
    "train_loss, test_loss = [], []\n",
    "for e in range(epochs):\n",
    "    running_loss = 0\n",
    "    for image, label in trainloader:\n",
    "        \n",
    "        optimizer.zero_grad()\n",
    "        \n",
    "        log_ps = model(image)\n",
    "        loss = criterion(log_ps,label)\n",
    "        loss.backward()\n",
    "        optimizer.step()\n",
    "        \n",
    "        running_loss += loss.item()\n",
    "    else:\n",
    "        t_loss = 0\n",
    "        accuracy = 0\n",
    "        with torch.no_grad():\n",
    "            model.eval()\n",
    "            for image, label in testloader:\n",
    "                log_ps = model(image)\n",
    "                t_loss += criterion(log_ps,label)\n",
    "                \n",
    "                ps = torch.exp(log_ps)\n",
    "                top_p, top_class = ps.topk(1,dim=1)\n",
    "                equals = top_class == label.view(*top_class.shape)\n",
    "                accuracy += torch.mean(equals.type(torch.FloatTensor))\n",
    "        train_loss.append(running_loss/len(trainloader))\n",
    "        test_loss.append(t_loss/len(testloader))\n",
    "        model.train()\n",
    "        print(f'Epoch: {e}')\n",
    "        print(f'Training Loss: {train_loss[-1]}')\n",
    "        print(f'Test Loss: {test_loss[-1]}')\n",
    "        print(f'Accuracy: {accuracy.item()*100}%')"
   ]
  },
  {
   "cell_type": "code",
   "execution_count": 38,
   "metadata": {},
   "outputs": [
    {
     "data": {
      "text/plain": [
       "<matplotlib.legend.Legend at 0x1df9456a5c8>"
      ]
     },
     "execution_count": 38,
     "metadata": {},
     "output_type": "execute_result"
    },
    {
     "data": {
      "image/png": "[encoded data removed]",
      "text/plain": [
       "<Figure size 432x288 with 1 Axes>"
      ]
     },
     "metadata": {
      "image/png": {
       "height": 248,
       "width": 380
      },
      "needs_background": "light"
     },
     "output_type": "display_data"
    }
   ],
   "source": [
    "plt.plot(train_loss, label='Training loss')\n",
    "plt.plot(test_loss, label='Validation loss')\n",
    "plt.legend(frameon=False)"
   ]
  },
  {
   "cell_type": "markdown",
   "metadata": {},
   "source": [
    "## Inference\n",
    "\n",
    "Now that the model is trained, we can use it for inference. We've done this before, but now we need to remember to set the model in inference mode with `model.eval()`. You'll also want to turn off autograd with the `torch.no_grad()` context."
   ]
  },
  {
   "cell_type": "code",
   "execution_count": 62,
   "metadata": {},
   "outputs": [
    {
     "data": {
      "image/png": "[encoded data removed]",
      "text/plain": [
       "<Figure size 432x648 with 2 Axes>"
      ]
     },
     "metadata": {
      "image/png": {
       "height": 216,
       "width": 424
      },
      "needs_background": "light"
     },
     "output_type": "display_data"
    }
   ],
   "source": [
    "# Import helper module (should be in the repo)\n",
    "import helper\n",
    "\n",
    "# Test out your network!\n",
    "\n",
    "model.eval()\n",
    "\n",
    "dataiter = iter(testloader)\n",
    "images, labels = dataiter.next()\n",
    "img = images[0]\n",
    "# Convert 2D image to 1D vector\n",
    "img = img.view(1, 784)\n",
    "\n",
    "# Calculate the class probabilities (softmax) for img\n",
    "with torch.no_grad():\n",
    "    output = model.forward(img)\n",
    "\n",
    "ps = torch.exp(output)\n",
    "\n",
    "# Plot the image and probabilities\n",
    "helper.view_classify(img.view(1, 28, 28), ps, version='Fashion')"
   ]
  },
  {
   "cell_type": "markdown",
   "metadata": {},
   "source": [
    "## Next Up!\n",
    "\n",
    "In the next part, I'll show you how to save your trained models. In general, you won't want to train a model everytime you need it. Instead, you'll train once, save it, then load the model when you want to train more or use if for inference."
   ]
  }
 ],
 "metadata": {
  "kernelspec": {
   "display_name": "Python 3",
   "language": "python",
   "name": "python3"
  },
  "language_info": {
   "codemirror_mode": {
    "name": "ipython",
    "version": 3
   },
   "file_extension": ".py",
   "mimetype": "text/x-python",
   "name": "python",
   "nbconvert_exporter": "python",
   "pygments_lexer": "ipython3",
   "version": "3.7.6"
  }
 },
 "nbformat": 4,
 "nbformat_minor": 2
}
